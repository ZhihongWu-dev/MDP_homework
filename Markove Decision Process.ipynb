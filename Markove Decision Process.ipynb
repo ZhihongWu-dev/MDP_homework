{
 "cells": [
  {
   "cell_type": "markdown",
   "id": "f3649424",
   "metadata": {},
   "source": [
    "# Markove_Decision_Process"
   ]
  },
  {
   "cell_type": "markdown",
   "id": "bbed442a",
   "metadata": {},
   "source": [
    "## Exercise: Inventory Management with Markov Chain"
   ]
  },
  {
   "cell_type": "markdown",
   "id": "b8da472f",
   "metadata": {},
   "source": [
    "2. Stationary-State Distribution Solution"
   ]
  },
  {
   "cell_type": "code",
   "execution_count": 5,
   "id": "fa56f304",
   "metadata": {},
   "outputs": [
    {
     "data": {
      "text/plain": [
       "({p0: 0.285654113557358,\n",
       "  p1: 0.284834878331402,\n",
       "  p2: 0.263180764774044,\n",
       "  p3: 0.166330243337196},\n",
       " [0.285654113557358, 0.284834878331402, 0.263180764774044, 0.166330243337196])"
      ]
     },
     "execution_count": 5,
     "metadata": {},
     "output_type": "execute_result"
    }
   ],
   "source": [
    "import sympy as sp\n",
    "\n",
    "# symbols\n",
    "p0, p1, p2, p3 = sp.symbols('p0 p1 p2 p3', real=True)\n",
    "\n",
    "# Transition matrix P\n",
    "P = sp.Matrix([\n",
    "    [0.080, 0.184, 0.368, 0.368],\n",
    "    [0.632, 0.368, 0.000, 0.000],\n",
    "    [0.264, 0.368, 0.368, 0.000],\n",
    "    [0.080, 0.184, 0.368, 0.368],\n",
    "])\n",
    "\n",
    "pi = sp.Matrix([[p0, p1, p2, p3]])  # row vector\n",
    "\n",
    "# Equations: pi*P = pi and sum(pi) = 1\n",
    "eqs = [sp.Eq((pi * P)[0, i], pi[0, i]) for i in range(4)]\n",
    "eqs.append(sp.Eq(p0 + p1 + p2 + p3, 1))\n",
    "\n",
    "solution = sp.solve(eqs, (p0, p1, p2, p3), dict=True)[0]\n",
    "solution, [sp.N(solution[p0]), sp.N(solution[p1]), sp.N(solution[p2]), sp.N(solution[p3])]"
   ]
  },
  {
   "cell_type": "code",
   "execution_count": null,
   "id": "571eb8d6",
   "metadata": {},
   "outputs": [],
   "source": []
  },
  {
   "cell_type": "code",
   "execution_count": null,
   "id": "2cfc3004",
   "metadata": {},
   "outputs": [],
   "source": []
  },
  {
   "cell_type": "code",
   "execution_count": null,
   "id": "080beea4",
   "metadata": {},
   "outputs": [],
   "source": []
  }
 ],
 "metadata": {
  "kernelspec": {
   "display_name": "Python 3 (ipykernel)",
   "language": "python",
   "name": "python3"
  },
  "language_info": {
   "codemirror_mode": {
    "name": "ipython",
    "version": 3
   },
   "file_extension": ".py",
   "mimetype": "text/x-python",
   "name": "python",
   "nbconvert_exporter": "python",
   "pygments_lexer": "ipython3",
   "version": "3.11.5"
  }
 },
 "nbformat": 4,
 "nbformat_minor": 5
}
